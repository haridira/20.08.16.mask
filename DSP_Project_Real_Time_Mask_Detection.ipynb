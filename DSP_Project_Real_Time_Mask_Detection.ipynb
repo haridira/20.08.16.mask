{
 "cells": [
  {
   "cell_type": "code",
   "execution_count": null,
   "metadata": {},
   "outputs": [],
   "source": [
    "#Importing necessary packages\n",
    "import cv2\n",
    "import os\n",
    "from tensorflow.keras.models import load_model\n",
    "import numpy as np"
   ]
  },
  {
   "cell_type": "code",
   "execution_count": null,
   "metadata": {},
   "outputs": [],
   "source": [
    "%cd \"C:\\Users\\praga\\OneDrive\\Desktop\""
   ]
  },
  {
   "cell_type": "code",
   "execution_count": null,
   "metadata": {},
   "outputs": [],
   "source": [
    "#Loading the trained CNN model.\n",
    "model_load = load_model(\"mask_recog_ver2.h5\")"
   ]
  },
  {
   "cell_type": "code",
   "execution_count": null,
   "metadata": {},
   "outputs": [],
   "source": [
    "faceCascadeClf = cv2.CascadeClassifier('C:\\\\Users\\\\praga\\\\Anaconda3\\\\Lib\\\\site-packages\\\\cv2\\\\data\\\\haarcascade_frontalface_alt2.xml')\n",
    "model = load_model(\"mask_recog_ver2.h5\")\n",
    " \n",
    "video_capture = cv2.VideoCapture(0) #Starting the webcam for video streaming\n",
    "while True:           #Running infinite loop till the webcam is on to dettect faces and masks on them.\n",
    "    ret, frame = video_capture.read()\n",
    "    gray = cv2.cvtColor(frame, cv2.COLOR_BGR2GRAY)\n",
    "    faces = faceCascadeClf.detectMultiScale(gray,\n",
    "                                         scaleFactor=1.05,\n",
    "                                         minNeighbors=6,\n",
    "                                         minSize=(30, 30),\n",
    "                                         flags=cv2.CASCADE_SCALE_IMAGE)    \n",
    "    faces_list=[]\n",
    "    preds=[]\n",
    "    for (x, y, w, h) in faces:\n",
    "        face_frame = frame[y:y+h,x:x+w]  #Co-ordinates of the \n",
    "        face_frame = cv2.cvtColor(face_frame, cv2.COLOR_BGR2RGB)\n",
    "        face_frame = cv2.resize(face_frame, (300, 200))  #Resizing as the model is trained on images of this size.\n",
    "\n",
    "        face_frame = np.expand_dims(face_frame, axis=0)  \n",
    "        face_frame = np.asarray(face_frame)  #Converting the images to array.\n",
    "        face_frame = face_frame.astype('float32')  \n",
    "        face_frame /= 255  #Normalising the data.\n",
    "        faces_list.append(face_frame)\n",
    "        if len(faces_list)>0:\n",
    "            preds = model.predict_classes(faces_list) #Predict if there is mask on the image/frame.\n",
    "        for pred in preds:\n",
    "            \n",
    "            (k) = pred\n",
    "        label = \"Mask\" if k > 0 else \"No Mask\"\n",
    "        color = (0, 255, 0) if label == \"Mask\" else (0, 0, 255)  #The color is green for Mask \n",
    "        label = \"{}\".format(label)\n",
    "        cv2.putText(frame, label, (x, y- 10),\n",
    "                    cv2.FONT_HERSHEY_SIMPLEX, 0.45, color, 2)\n",
    " \n",
    "        cv2.rectangle(frame, (x, y), (x + w, y + h),color, 2)\n",
    "        # Display the resulting frame\n",
    "    cv2.imshow('Video', frame)\n",
    "    k = cv2.waitKey(1)  #Will display a frame for 1 ms, after which display will be automatically closed.\n",
    "    if k == 50: \n",
    "        cv2.destroyAllWindows() \n",
    "    elif k == ord('k'): # Use \"s\" key to exit.\n",
    "        video_capture.release()  #Close the window\n",
    "        cv2.destroyAllWindows()  "
   ]
  }
 ],
 "metadata": {
  "kernelspec": {
   "display_name": "Python 3",
   "language": "python",
   "name": "python3"
  },
  "language_info": {
   "codemirror_mode": {
    "name": "ipython",
    "version": 3
   },
   "file_extension": ".py",
   "mimetype": "text/x-python",
   "name": "python",
   "nbconvert_exporter": "python",
   "pygments_lexer": "ipython3",
   "version": "3.7.3"
  }
 },
 "nbformat": 4,
 "nbformat_minor": 2
}
